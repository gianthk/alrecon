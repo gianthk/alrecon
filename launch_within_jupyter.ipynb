{
 "cells": [
  {
   "cell_type": "code",
   "execution_count": 1,
   "id": "b6bc38e4-4b94-41c5-b706-2cecf8ba1021",
   "metadata": {
    "tags": []
   },
   "outputs": [
    {
     "data": {
      "text/plain": [
       "'/home/beats/PycharmProjects/alrecon'"
      ]
     },
     "execution_count": 1,
     "metadata": {},
     "output_type": "execute_result"
    }
   ],
   "source": [
    "pwd"
   ]
  },
  {
   "cell_type": "code",
   "execution_count": 1,
   "id": "fa1b4037-d942-4c06-bf67-72db836c3c19",
   "metadata": {
    "tags": []
   },
   "outputs": [
    {
     "name": "stdout",
     "output_type": "stream",
     "text": [
      "/home/beats/PycharmProjects/alrecon/alrecon/pages\n",
      "/home/beats/PycharmProjects/alrecon/alrecon\n",
      "['/home/beats/PycharmProjects/alrecon', '/home/beats/.conda/envs/tomopy-source/lib/python37.zip', '/home/beats/.conda/envs/tomopy-source/lib/python3.7', '/home/beats/.conda/envs/tomopy-source/lib/python3.7/lib-dynload', '', '/home/beats/.conda/envs/tomopy-source/lib/python3.7/site-packages', '/home/beats/PycharmProjects/alrecon', '/home/beats/PycharmProjects/BEATS_recon/examples/solara/test_portal', '/home/beats/.conda/envs/tomopy-source/lib/python3.7/site-packages/IPython/extensions', '/home/beats/.ipython', '/home/beats/PycharmProjects/recon_utils', '/home/beats/PycharmProjects/alrecon/alrecon/pages']\n"
     ]
    }
   ],
   "source": [
    "import sys\n",
    "import os\n",
    "\n",
    "SCRIPT_DIR = os.path.dirname(os.path.abspath(\"./alrecon/pages/__init__.py\"))\n",
    "# SCRIPT_DIR = os.path.dirname(os.path.abspath(\"__init__.py\"))\n",
    "# sys.path.insert(0, os.path.dirname(SCRIPT_DIR))\n",
    "sys.path.append(SCRIPT_DIR)\n",
    "print(SCRIPT_DIR)\n",
    "print(os.path.dirname(SCRIPT_DIR))\n",
    "print(sys.path)"
   ]
  },
  {
   "cell_type": "code",
   "execution_count": 2,
   "id": "1b46b644-c15f-454e-8135-1bb4b0e066f5",
   "metadata": {
    "tags": []
   },
   "outputs": [
    {
     "name": "stdout",
     "output_type": "stream",
     "text": [
      "recon_dir: /mnt/PETRA/SED/BEATS/IH/scratch/pippo/recon does not exist.\n",
      "cor_dir: /mnt/PETRA/SED/BEATS/IH/scratch/pippo/cor does not exist.\n",
      "Init settings file: alrecon/settings/beats.yml\n"
     ]
    }
   ],
   "source": [
    "from alrecon.pages import Page, PageSettings"
   ]
  },
  {
   "cell_type": "code",
   "execution_count": 13,
   "id": "cfa20bb2-41e9-4587-880c-4fc4c322de97",
   "metadata": {
    "tags": []
   },
   "outputs": [],
   "source": [
    "# Page()"
   ]
  },
  {
   "cell_type": "code",
   "execution_count": null,
   "id": "08c75f3f-46f9-4750-b12b-05779a272f50",
   "metadata": {
    "scrolled": true
   },
   "outputs": [],
   "source": [
    "# PageSettings()"
   ]
  }
 ],
 "metadata": {
  "kernelspec": {
   "display_name": "conda (tomopy-source)",
   "language": "python",
   "name": "tomopy-source"
  },
  "language_info": {
   "codemirror_mode": {
    "name": "ipython",
    "version": 3
   },
   "file_extension": ".py",
   "mimetype": "text/x-python",
   "name": "python",
   "nbconvert_exporter": "python",
   "pygments_lexer": "ipython3",
   "version": "3.7.12"
  }
 },
 "nbformat": 4,
 "nbformat_minor": 5
}
